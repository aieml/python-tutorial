{
 "cells": [
  {
   "cell_type": "markdown",
   "metadata": {},
   "source": [
    "## 6 File Operations\n",
    "\n",
    "### Opening and Closing Files\n",
    "Until now, you have been reading and writing to the standard input and output. Now, we will see how to use actual data files.\n",
    "\n",
    "Python provides basic functions and methods necessary to manipulate files by default. You can do most of the file manipulation using a file object.\n",
    "\n",
    "#### 1. The open Function\n",
    "Before you can read or write a file, you have to open it using Python's built-in open() function. This function creates a file object, which would be utilized to call other support methods associated with it.\n",
    "\n",
    "#### Syntax\n",
    "\n",
    "```file object = open(file_name , access_mode]```\n",
    "\n",
    "1. file_name − The file_name argument is a string value that contains the name of the file that you want to acces\n",
    "2. access_mode − The access_mode determines the mode in which the file has to be opened, i.e., read(r), write(w), append(a), etc. A complete list of possible values is given below in the [table](https://www.tutorialspoint.com/python3/python_files_io.htm). The default file access mode is read (r).\n",
    "\n",
    "#### 2. The write() Method\n",
    "The write() method writes any string to an open file. It is important to note that Python strings can have binary data and not just text.\n",
    "\n",
    "The write() method does not add a newline character ('\\n') to the end of the string −\n",
    "\n",
    "#### 3.The read() Method\n",
    "The read() method reads a string from an open file. It is important to note that Python strings can have binary data. apart from text data."
   ]
  },
  {
   "cell_type": "code",
   "execution_count": 12,
   "metadata": {},
   "outputs": [],
   "source": [
    "file1=open('example1.txt','w') #no need to already exist\n",
    "\n",
    "file1.write('This is the 1st test line\\nThis is 2nd test line')\n",
    "file1.close()"
   ]
  },
  {
   "cell_type": "code",
   "execution_count": 13,
   "metadata": {},
   "outputs": [],
   "source": [
    "file2=open('example2.txt','a') #no need to already exist\n",
    "\n",
    "file2.write('This is the 1st test line\\nThis is 2nd test line')\n",
    "file2.close()"
   ]
  },
  {
   "cell_type": "code",
   "execution_count": 14,
   "metadata": {},
   "outputs": [
    {
     "name": "stdout",
     "output_type": "stream",
     "text": [
      "This is line1\n",
      "This is line2\n",
      "This is line3\n"
     ]
    }
   ],
   "source": [
    "file3=open('example3.txt','r') #must be exsisting\n",
    "\n",
    "output=file3.read()\n",
    "print(output)\n",
    "file3.close()"
   ]
  },
  {
   "cell_type": "code",
   "execution_count": 15,
   "metadata": {},
   "outputs": [
    {
     "name": "stdout",
     "output_type": "stream",
     "text": [
      "This is li\n"
     ]
    }
   ],
   "source": [
    "file3=open('example3.txt','r') #must be exsisting\n",
    "\n",
    "output=file3.read(10)\n",
    "print(output)\n",
    "file3.close()"
   ]
  },
  {
   "cell_type": "code",
   "execution_count": 16,
   "metadata": {},
   "outputs": [
    {
     "name": "stdout",
     "output_type": "stream",
     "text": [
      "This is line1\n",
      "\n"
     ]
    }
   ],
   "source": [
    "file3=open('example3.txt','r') #must be exsisting\n",
    "\n",
    "output=file3.readline()\n",
    "print(output)\n",
    "file3.close()"
   ]
  },
  {
   "cell_type": "code",
   "execution_count": 18,
   "metadata": {},
   "outputs": [
    {
     "name": "stdout",
     "output_type": "stream",
     "text": [
      "output1: This is line1\n",
      "\n",
      "output2: This is line2\n",
      "\n"
     ]
    }
   ],
   "source": [
    "file3=open('example3.txt','r') #must be exsisting\n",
    "\n",
    "output1=file3.readline()\n",
    "output2=file3.readline()\n",
    "print('output1:',output1)\n",
    "print('output2:',output2)\n",
    "file3.close()"
   ]
  }
 ],
 "metadata": {
  "kernelspec": {
   "display_name": "Python 3",
   "language": "python",
   "name": "python3"
  },
  "language_info": {
   "codemirror_mode": {
    "name": "ipython",
    "version": 3
   },
   "file_extension": ".py",
   "mimetype": "text/x-python",
   "name": "python",
   "nbconvert_exporter": "python",
   "pygments_lexer": "ipython3",
   "version": "3.7.4"
  }
 },
 "nbformat": 4,
 "nbformat_minor": 2
}
